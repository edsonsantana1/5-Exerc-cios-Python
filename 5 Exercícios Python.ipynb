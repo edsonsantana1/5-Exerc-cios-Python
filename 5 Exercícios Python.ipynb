{
 "cells": [
  {
   "cell_type": "code",
   "execution_count": null,
   "metadata": {},
   "outputs": [],
   "source": [
    "# 1) Faça um Programa que peça um número e então mostre a mensagem \"O número informado foi\" seguida do número."
   ]
  },
  {
   "cell_type": "code",
   "execution_count": 3,
   "metadata": {},
   "outputs": [
    {
     "name": "stdout",
     "output_type": "stream",
     "text": [
      "O número informado foi: 5\n"
     ]
    }
   ],
   "source": [
    "numero = int(input(\"Digite o numero: \"))\n",
    "print(\"O número informado foi:\", numero)"
   ]
  },
  {
   "cell_type": "code",
   "execution_count": null,
   "metadata": {},
   "outputs": [],
   "source": [
    "# 2) Faça um Programa que peça 2 números e imprima a soma."
   ]
  },
  {
   "cell_type": "code",
   "execution_count": 6,
   "metadata": {},
   "outputs": [
    {
     "name": "stdout",
     "output_type": "stream",
     "text": [
      "Primeiro número:  7\n",
      "Segundo número: 9\n",
      "Resultado:  16\n"
     ]
    }
   ],
   "source": [
    "numero1 = int(input(\"Digite o primeiro número: \"))\n",
    "print(\"Primeiro número: \", numero1)\n",
    "numero2 = int(input(\"Digite o segundo número: \"))\n",
    "print(\"Segundo número:\", numero2)\n",
    "somaNumero = numero1 + numero2\n",
    "print(\"Resultado: \", somaNumero)"
   ]
  },
  {
   "cell_type": "code",
   "execution_count": 4,
   "metadata": {},
   "outputs": [],
   "source": [
    "# \\\\ 3) Faça um Programa que peça 3 notas e mostre a média.\\\\"
   ]
  },
  {
   "cell_type": "code",
   "execution_count": 2,
   "metadata": {},
   "outputs": [
    {
     "name": "stdout",
     "output_type": "stream",
     "text": [
      "Primeira nota: 7.8\n",
      "Primeira nota: 8.7\n",
      "Primeira nota: 8.9\n",
      "A média é:  8.466666666666667\n"
     ]
    }
   ],
   "source": [
    "nota1 = float(input(\"Digite a primaira nota: \"))\n",
    "print(\"Primeira nota:\", nota1)\n",
    "nota2 = float(input(\"Digite a segunda nota: \"))\n",
    "print(\"Primeira nota:\", nota2)\n",
    "nota3 = float(input(\"Digite a terceira nota: \"))\n",
    "print(\"Primeira nota:\", nota3)\n",
    "media = (nota1 + nota2 + nota3) /3\n",
    "print(\"A média é: \", media)"
   ]
  },
  {
   "cell_type": "code",
   "execution_count": 2,
   "metadata": {},
   "outputs": [
    {
     "name": "stdout",
     "output_type": "stream",
     "text": [
      "Quanto você ganha por hora: 8.2\n",
      "Quantas horas você trabalha por mês: 220.0\n",
      "Você recebe por mês:  1803.9999999999998\n"
     ]
    }
   ],
   "source": [
    "# 4) Faça um Programa que pergunte quanto você ganha por hora e o número de horas trabalhadas no mês. Calcule e mostre o total do seu salário no referido mês.\n",
    "\n",
    "valorHora = float(input('Quanto você ganha por hora'))\n",
    "print(\"Quanto você ganha por hora:\", valorHora)\n",
    "horasMes = float(input(\"Quantas horas você trabalha por mês\"))\n",
    "print(\"Quantas horas você trabalha por mês:\", horasMes)\n",
    "salarioMes = valorHora * horasMes\n",
    "print(\"Você recebe por mês: \", salarioMes)"
   ]
  },
  {
   "cell_type": "code",
   "execution_count": 3,
   "metadata": {},
   "outputs": [
    {
     "name": "stdout",
     "output_type": "stream",
     "text": [
      "Informe a quantidade de Kg de peixes: 70.5\n",
      "Quantidade limete é 50Kg\n",
      "Valor excessedente: -20.5\n",
      "Multa por quilo excessendente R$ 4,00\n",
      "Sua multa é R$: -82.0\n"
     ]
    }
   ],
   "source": [
    "# João é pescador no litoral do Recife. Toda vez que João traz um peso de peixes maior que o estabelecido pelo regulamento do estado de Pernambuco (50 quilos) deve pagar uma multa de R$ 4,00 por quilo excedente.\n",
    "# Facilete a vida de João! Faça um programa que leia a variável peso (peso de peixes) e calcule o excesso.\n",
    "# Gravar uma variável excesso a quantidade de quilos além do limmite e na variável multa o valor da multa que João deverá pagar. Imprima os dados do programa com as mensagens para alertat João.\n",
    "\n",
    "peso = float(input(\"Informe quantidade de Kg de peixes: \"))\n",
    "print(\"Informe a quantidade de Kg de peixes:\", peso)\n",
    "excessoLimete = 50\n",
    "print(\"Quantidade limete é 50Kg\")\n",
    "excesso = excessoLimete - peso\n",
    "print(\"Valor excessedente:\", excesso)\n",
    "multa = 4\n",
    "print(\"Multa por quilo excessendente R$ 4,00\")\n",
    "valorMulta = excesso * multa\n",
    "print(\"Sua multa é R$:\", valorMulta)\n",
    "\n"
   ]
  }
 ],
 "metadata": {
  "kernelspec": {
   "display_name": "Python 3",
   "language": "python",
   "name": "python3"
  },
  "language_info": {
   "codemirror_mode": {
    "name": "ipython",
    "version": 3
   },
   "file_extension": ".py",
   "mimetype": "text/x-python",
   "name": "python",
   "nbconvert_exporter": "python",
   "pygments_lexer": "ipython3",
   "version": "3.11.8"
  }
 },
 "nbformat": 4,
 "nbformat_minor": 2
}
